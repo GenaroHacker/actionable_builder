{
  "nbformat": 4,
  "nbformat_minor": 0,
  "metadata": {
    "colab": {
      "provenance": [],
      "authorship_tag": "ABX9TyNdu3GYQWsPEpVUiFRnWB+G",
      "include_colab_link": true
    },
    "kernelspec": {
      "name": "python3",
      "display_name": "Python 3"
    },
    "language_info": {
      "name": "python"
    }
  },
  "cells": [
    {
      "cell_type": "markdown",
      "metadata": {
        "id": "view-in-github",
        "colab_type": "text"
      },
      "source": [
        "<a href=\"https://colab.research.google.com/github/GenaroHacker/actionable/blob/main/main.ipynb\" target=\"_parent\"><img src=\"https://colab.research.google.com/assets/colab-badge.svg\" alt=\"Open In Colab\"/></a>"
      ]
    },
    {
      "cell_type": "code",
      "execution_count": 1,
      "metadata": {
        "id": "a10dKvHmxoze",
        "cellView": "form"
      },
      "outputs": [],
      "source": [
        "%%capture\n",
        "#@title Set Up\n",
        "!git clone https://github.com/GenaroHacker/write_imports.git\n",
        "!git clone https://github.com/GenaroHacker/dict_to_kivy_app.git\n",
        "!git clone https://github.com/GenaroHacker/actionable.git\n",
        "\n",
        "from write_imports.write_imports import write_imports\n",
        "\n"
      ]
    },
    {
      "cell_type": "code",
      "source": [
        "\n",
        "\n",
        "\n",
        "# Delete this line to see the new imports\n",
        "%%capture\n",
        "\n",
        "\n",
        "\n",
        "#@title Import Statements\n",
        "#Modules: ['write_imports', 'actionable', 'dict_to_kivy_app']\n",
        "\n",
        "\n",
        "\n",
        "from write_imports.write_imports import write_imports\n",
        "\n",
        "from write_imports.LearningPython.BasicExamples.intro_functions import print_hello_world\n",
        "\n",
        "from actionable.modules.create_example_database import create_example_database\n",
        "\n",
        "from actionable.modules.sql_core import create_table\n",
        "from actionable.modules.sql_core import insert_record\n",
        "from actionable.modules.sql_core import insert_several_records\n",
        "from actionable.modules.sql_core import read_records\n",
        "from actionable.modules.sql_core import read_last_record\n",
        "from actionable.modules.sql_core import update_record\n",
        "from actionable.modules.sql_core import remove_record\n",
        "from actionable.modules.sql_core import run_command\n",
        "\n",
        "from actionable.modules.pick_zipfian import pick_zipfian\n",
        "\n",
        "from dict_to_kivy_app.modules.write_imports import write_imports\n",
        "\n",
        "from dict_to_kivy_app.modules.create_kv import create_kv\n",
        "\n",
        "from dict_to_kivy_app.modules.create_app import create_app\n",
        "\n",
        "from dict_to_kivy_app.modules.create_main import create_main\n",
        "\n",
        "from dict_to_kivy_app.modules.create_screen_and_kv import create_screen_and_kv\n",
        "\n",
        "from dict_to_kivy_app.modules.create_screen import sanitize_function_name\n",
        "from dict_to_kivy_app.modules.create_screen import create_screen\n",
        "\n",
        "from dict_to_kivy_app.modules.create_utils import create_utils\n",
        "\n",
        "\n",
        "\n",
        "\n",
        "\n",
        "print(write_imports(['example_apps']))\n",
        "\n",
        "\n",
        "\n",
        "\n"
      ],
      "metadata": {
        "id": "1qVDR-TJx4VB",
        "cellView": "form"
      },
      "execution_count": 2,
      "outputs": []
    },
    {
      "cell_type": "code",
      "source": [
        "# @title Create App\n",
        "\n",
        "# Define app structure dictionary\n",
        "screens = {\n",
        "    'task_selector': {\n",
        "        'reachable_screens': ['subtask_sequence'],\n",
        "        'custom_functions': ['t1', 't2', 't3', 't4', 't5', 'Start'],\n",
        "        'grid_columns': 1,\n",
        "        'color': (0, 0.9, 0.5),\n",
        "    },\n",
        "    'subtask_sequence': {\n",
        "        'reachable_screens': ['task_selector'],\n",
        "        'custom_functions': ['Pause', 'Cancel', 'Next Step'],\n",
        "        'grid_columns': 3,\n",
        "        'color': (1, 1, 1),\n",
        "    }\n",
        "}\n",
        "\n",
        "# Create and download app\n",
        "create_app(\n",
        "    screen_dict=screens,\n",
        "    folder_name=\"example_apps\",\n",
        "    app_name=\"SampleApp\",\n",
        "    title_height=100,\n",
        "    button_height=50,\n",
        "    navigation_columns=2,\n",
        "    transition='NoTransition',\n",
        "    compress_and_download=True\n",
        ")\n"
      ],
      "metadata": {
        "cellView": "form",
        "id": "ffrFI7LHxh09",
        "outputId": "0a5cf7f6-0f44-44b0-8165-2b479114bcb5",
        "colab": {
          "base_uri": "https://localhost:8080/",
          "height": 35
        }
      },
      "execution_count": 3,
      "outputs": [
        {
          "output_type": "display_data",
          "data": {
            "text/plain": [
              "<IPython.core.display.Javascript object>"
            ],
            "application/javascript": [
              "\n",
              "    async function download(id, filename, size) {\n",
              "      if (!google.colab.kernel.accessAllowed) {\n",
              "        return;\n",
              "      }\n",
              "      const div = document.createElement('div');\n",
              "      const label = document.createElement('label');\n",
              "      label.textContent = `Downloading \"${filename}\": `;\n",
              "      div.appendChild(label);\n",
              "      const progress = document.createElement('progress');\n",
              "      progress.max = size;\n",
              "      div.appendChild(progress);\n",
              "      document.body.appendChild(div);\n",
              "\n",
              "      const buffers = [];\n",
              "      let downloaded = 0;\n",
              "\n",
              "      const channel = await google.colab.kernel.comms.open(id);\n",
              "      // Send a message to notify the kernel that we're ready.\n",
              "      channel.send({})\n",
              "\n",
              "      for await (const message of channel.messages) {\n",
              "        // Send a message to notify the kernel that we're ready.\n",
              "        channel.send({})\n",
              "        if (message.buffers) {\n",
              "          for (const buffer of message.buffers) {\n",
              "            buffers.push(buffer);\n",
              "            downloaded += buffer.byteLength;\n",
              "            progress.value = downloaded;\n",
              "          }\n",
              "        }\n",
              "      }\n",
              "      const blob = new Blob(buffers, {type: 'application/binary'});\n",
              "      const a = document.createElement('a');\n",
              "      a.href = window.URL.createObjectURL(blob);\n",
              "      a.download = filename;\n",
              "      div.appendChild(a);\n",
              "      a.click();\n",
              "      div.remove();\n",
              "    }\n",
              "  "
            ]
          },
          "metadata": {}
        },
        {
          "output_type": "display_data",
          "data": {
            "text/plain": [
              "<IPython.core.display.Javascript object>"
            ],
            "application/javascript": [
              "download(\"download_b21c7432-a099-4086-beb1-2ec3570c70dd\", \"example_apps.zip\", 5181)"
            ]
          },
          "metadata": {}
        },
        {
          "output_type": "execute_result",
          "data": {
            "text/plain": [
              "'example_apps/SampleApp'"
            ],
            "application/vnd.google.colaboratory.intrinsic+json": {
              "type": "string"
            }
          },
          "metadata": {},
          "execution_count": 3
        }
      ]
    },
    {
      "cell_type": "code",
      "source": [
        "# @title Create Example Database\n",
        "create_example_database()"
      ],
      "metadata": {
        "id": "6j2GttTv3Imv",
        "cellView": "form"
      },
      "execution_count": 4,
      "outputs": []
    }
  ]
}