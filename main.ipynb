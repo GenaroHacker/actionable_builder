{
  "nbformat": 4,
  "nbformat_minor": 0,
  "metadata": {
    "colab": {
      "provenance": [],
      "authorship_tag": "ABX9TyNkPBA52KGgarsF6mmy+VFF",
      "include_colab_link": true
    },
    "kernelspec": {
      "name": "python3",
      "display_name": "Python 3"
    },
    "language_info": {
      "name": "python"
    }
  },
  "cells": [
    {
      "cell_type": "markdown",
      "metadata": {
        "id": "view-in-github",
        "colab_type": "text"
      },
      "source": [
        "<a href=\"https://colab.research.google.com/github/GenaroHacker/actionable_builder/blob/main/main.ipynb\" target=\"_parent\"><img src=\"https://colab.research.google.com/assets/colab-badge.svg\" alt=\"Open In Colab\"/></a>"
      ]
    },
    {
      "cell_type": "markdown",
      "source": [
        "\n",
        "\n",
        "Database Structure\n",
        "\n",
        "\n",
        "```\n",
        "# Table: PLACES\n",
        "# (ID INTEGER PRIMARY KEY, NAME TEXT UNIQUE)\n",
        "\n",
        "# Table: CONTEXTS\n",
        "# (ID INTEGER PRIMARY KEY, PLACE_ID INTEGER, NAME TEXT, RANK INTEGER, FOREIGN KEY(PLACE_ID) REFERENCES PLACES(ID), UNIQUE(PLACE_ID, NAME))\n",
        "\n",
        "# Table: TAGS\n",
        "# (ID INTEGER PRIMARY KEY, CONTEXT_ID INTEGER, NAME TEXT, RANK INTEGER, FOREIGN KEY(CONTEXT_ID) REFERENCES CONTEXTS(ID), UNIQUE(CONTEXT_ID, NAME))\n",
        "\n",
        "# Table: TASKS\n",
        "# (ID INTEGER PRIMARY KEY, TAG_ID INTEGER, NAME TEXT, RANK INTEGER, FOREIGN KEY(TAG_ID) REFERENCES TAGS(ID), UNIQUE(TAG_ID, NAME))\n",
        "\n",
        "# Table: STEPS\n",
        "# (ID INTEGER PRIMARY KEY, TASK_ID INTEGER, NAME TEXT, ORDER_SEQUENCE INTEGER, MINUTES INTEGER, FOREIGN KEY(TASK_ID) REFERENCES TASKS(ID), UNIQUE(TASK_ID, ORDER_SEQUENCE))\n",
        "\n",
        "# Table: PLACEHOLDERS\n",
        "# (ID INTEGER PRIMARY KEY, TYPE TEXT, VALUE TEXT, RANK INTEGER, UNIQUE(TYPE, VALUE))\n",
        "\n",
        "# Table: HISTORY\n",
        "# (ID INTEGER PRIMARY KEY, STEP_ID INTEGER, ACTION TEXT, TIME TEXT, FOREIGN KEY(STEP_ID) REFERENCES STEPS(ID))\n",
        "\n",
        "```\n",
        "\n",
        "\n"
      ],
      "metadata": {
        "id": "zzV8fSoXkPgD"
      }
    },
    {
      "cell_type": "code",
      "execution_count": null,
      "metadata": {
        "cellView": "form",
        "id": "oagz0DbYCkKj"
      },
      "outputs": [],
      "source": [
        "%%capture\n",
        "#@title Set Up\n",
        "!git clone https://github.com/GenaroHacker/write_imports.git\n",
        "from write_imports.write_imports import write_imports\n",
        "\n",
        "!git clone https://github.com/GenaroHacker/actionable_builder.git\n"
      ]
    },
    {
      "cell_type": "code",
      "source": [
        "\n",
        "# Delete this line to see the new imports\n",
        "%%capture\n",
        "\n",
        "\n",
        "\n",
        "#@title Import Statements\n",
        "#Modules: ['write_imports', 'actionable_builder']\n",
        "\n",
        "\n",
        "\n",
        "from write_imports.write_imports import write_imports\n",
        "\n",
        "from write_imports.LearningPython.BasicExamples.intro_functions import print_hello_world\n",
        "\n",
        "from actionable_builder.modules.rank_columns import ask_user_cmp\n",
        "from actionable_builder.modules.rank_columns import ask_user_cmp\n",
        "from actionable_builder.modules.rank_columns import check_minimum_tasks\n",
        "from actionable_builder.modules.rank_columns import fetch_records_for_ranking\n",
        "from actionable_builder.modules.rank_columns import update_rank\n",
        "from actionable_builder.modules.rank_columns import sort_and_update\n",
        "\n",
        "from actionable_builder.modules.add_example_data import add_example_data\n",
        "\n",
        "from actionable_builder.modules.create_database import create_table\n",
        "from actionable_builder.modules.create_database import insert_record\n",
        "from actionable_builder.modules.create_database import create_empty_database\n",
        "from actionable_builder.modules.create_database import check_or_insert_with_parent\n",
        "from actionable_builder.modules.create_database import check_step_exists\n",
        "from actionable_builder.modules.create_database import add_task\n",
        "from actionable_builder.modules.create_database import add_placeholders\n",
        "from actionable_builder.modules.create_database import initialize_database\n",
        "from actionable_builder.modules.create_database import create_example_database\n",
        "from actionable_builder.modules.create_database import download_database\n",
        "\n",
        "from actionable_builder.modules.sql_core import insert_several_records\n",
        "from actionable_builder.modules.sql_core import read_records\n",
        "from actionable_builder.modules.sql_core import read_last_record\n",
        "from actionable_builder.modules.sql_core import update_record\n",
        "from actionable_builder.modules.sql_core import remove_record\n",
        "from actionable_builder.modules.sql_core import run_command\n",
        "\n",
        "from actionable_builder.modules.pick_zipfian import pick_zipfian\n",
        "\n",
        "\n",
        "\n",
        "\n",
        "\n",
        "print(write_imports([]))\n",
        "\n",
        "\n",
        "\n"
      ],
      "metadata": {
        "cellView": "form",
        "id": "sSs5fvl1CybO"
      },
      "execution_count": null,
      "outputs": []
    },
    {
      "cell_type": "code",
      "source": [
        "# @title Main Execution\n",
        "\n",
        "# Main Execution\n",
        "if __name__ == \"__main__\":\n",
        "    initialize_database()\n",
        "\n",
        "    # Example task input\n",
        "    task = {\n",
        "        \"place\": \"home\",\n",
        "        \"context\": \"create\",\n",
        "        \"tag\": \"guitar\",\n",
        "        \"task\": \"loop %note%\",\n",
        "        \"steps\": [\n",
        "            \"identify the note in each string\",\n",
        "            \"start the metronome at 30\",\n",
        "            \"loop over each string 3 times\"\n",
        "        ]\n",
        "    }\n",
        "\n",
        "    add_task(task)\n",
        "\n",
        "    # Example usage of add_placeholders\n",
        "    placeholders = {\n",
        "        \"note\": [\"C\", \"C#\", \"D\"],\n",
        "        \"color\": [\"red\", \"blue\", \"green\"]\n",
        "    }\n",
        "\n",
        "    add_placeholders(placeholders)\n",
        "\n"
      ],
      "metadata": {
        "colab": {
          "base_uri": "https://localhost:8080/",
          "height": 104
        },
        "cellView": "form",
        "id": "xGt8d5zHGCBU",
        "outputId": "8e76f9ec-99df-4f74-d8a0-e53c312c9b89"
      },
      "execution_count": null,
      "outputs": [
        {
          "name": "stdout",
          "output_type": "stream",
          "text": [
            "Choose an option:\n",
            "1. Create empty database\n",
            "2. Create database with example data\n",
            "3. Upload database\n",
            "2\n"
          ]
        },
        {
          "output_type": "display_data",
          "data": {
            "text/plain": [
              "<IPython.core.display.Javascript object>"
            ],
            "application/javascript": [
              "\n",
              "    async function download(id, filename, size) {\n",
              "      if (!google.colab.kernel.accessAllowed) {\n",
              "        return;\n",
              "      }\n",
              "      const div = document.createElement('div');\n",
              "      const label = document.createElement('label');\n",
              "      label.textContent = `Downloading \"${filename}\": `;\n",
              "      div.appendChild(label);\n",
              "      const progress = document.createElement('progress');\n",
              "      progress.max = size;\n",
              "      div.appendChild(progress);\n",
              "      document.body.appendChild(div);\n",
              "\n",
              "      const buffers = [];\n",
              "      let downloaded = 0;\n",
              "\n",
              "      const channel = await google.colab.kernel.comms.open(id);\n",
              "      // Send a message to notify the kernel that we're ready.\n",
              "      channel.send({})\n",
              "\n",
              "      for await (const message of channel.messages) {\n",
              "        // Send a message to notify the kernel that we're ready.\n",
              "        channel.send({})\n",
              "        if (message.buffers) {\n",
              "          for (const buffer of message.buffers) {\n",
              "            buffers.push(buffer);\n",
              "            downloaded += buffer.byteLength;\n",
              "            progress.value = downloaded;\n",
              "          }\n",
              "        }\n",
              "      }\n",
              "      const blob = new Blob(buffers, {type: 'application/binary'});\n",
              "      const a = document.createElement('a');\n",
              "      a.href = window.URL.createObjectURL(blob);\n",
              "      a.download = filename;\n",
              "      div.appendChild(a);\n",
              "      a.click();\n",
              "      div.remove();\n",
              "    }\n",
              "  "
            ]
          },
          "metadata": {}
        },
        {
          "output_type": "display_data",
          "data": {
            "text/plain": [
              "<IPython.core.display.Javascript object>"
            ],
            "application/javascript": [
              "download(\"download_14efb6a0-7973-4642-be7e-c1bc871a6496\", \"tasks.db\", 65536)"
            ]
          },
          "metadata": {}
        }
      ]
    },
    {
      "cell_type": "code",
      "source": [
        "# @title Rank Columns\n",
        "\n",
        "# This script updates ranks in 'tasks.db' tables.\n",
        "# It groups unranked records by parent ID, sorts them based on user input and updates their ranks.\n",
        "\n",
        "if __name__ == \"__main__\":\n",
        "    db_path = '/content/tasks.db'\n",
        "\n",
        "    # Sorting and updating ranks for each table, grouped by their parent column\n",
        "    for table_name, parent_column in [('CONTEXTS', 'PLACE_ID'), ('TAGS', 'CONTEXT_ID'),\n",
        "                                      ('TASKS', 'TAG_ID'), ('PLACEHOLDERS', 'TYPE')]:\n",
        "        sort_and_update(db_path, table_name, parent_column)\n",
        "\n",
        "    download_database()\n",
        "\n"
      ],
      "metadata": {
        "colab": {
          "base_uri": "https://localhost:8080/",
          "height": 86
        },
        "cellView": "form",
        "id": "84cAz_5AmROY",
        "outputId": "4d127f5f-0c01-462f-9271-ddc4d048862b"
      },
      "execution_count": null,
      "outputs": [
        {
          "output_type": "stream",
          "name": "stdout",
          "text": [
            "Sorting for table: CONTEXTS\n",
            "Sorting for table: TAGS\n",
            "Sorting for table: TASKS\n",
            "Sorting for table: PLACEHOLDERS\n"
          ]
        },
        {
          "output_type": "display_data",
          "data": {
            "text/plain": [
              "<IPython.core.display.Javascript object>"
            ],
            "application/javascript": [
              "\n",
              "    async function download(id, filename, size) {\n",
              "      if (!google.colab.kernel.accessAllowed) {\n",
              "        return;\n",
              "      }\n",
              "      const div = document.createElement('div');\n",
              "      const label = document.createElement('label');\n",
              "      label.textContent = `Downloading \"${filename}\": `;\n",
              "      div.appendChild(label);\n",
              "      const progress = document.createElement('progress');\n",
              "      progress.max = size;\n",
              "      div.appendChild(progress);\n",
              "      document.body.appendChild(div);\n",
              "\n",
              "      const buffers = [];\n",
              "      let downloaded = 0;\n",
              "\n",
              "      const channel = await google.colab.kernel.comms.open(id);\n",
              "      // Send a message to notify the kernel that we're ready.\n",
              "      channel.send({})\n",
              "\n",
              "      for await (const message of channel.messages) {\n",
              "        // Send a message to notify the kernel that we're ready.\n",
              "        channel.send({})\n",
              "        if (message.buffers) {\n",
              "          for (const buffer of message.buffers) {\n",
              "            buffers.push(buffer);\n",
              "            downloaded += buffer.byteLength;\n",
              "            progress.value = downloaded;\n",
              "          }\n",
              "        }\n",
              "      }\n",
              "      const blob = new Blob(buffers, {type: 'application/binary'});\n",
              "      const a = document.createElement('a');\n",
              "      a.href = window.URL.createObjectURL(blob);\n",
              "      a.download = filename;\n",
              "      div.appendChild(a);\n",
              "      a.click();\n",
              "      div.remove();\n",
              "    }\n",
              "  "
            ]
          },
          "metadata": {}
        },
        {
          "output_type": "display_data",
          "data": {
            "text/plain": [
              "<IPython.core.display.Javascript object>"
            ],
            "application/javascript": [
              "download(\"download_832d1c1e-f57a-4791-93fb-c511f26698f9\", \"tasks.db\", 65536)"
            ]
          },
          "metadata": {}
        }
      ]
    }
  ]
}