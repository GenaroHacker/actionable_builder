{
  "nbformat": 4,
  "nbformat_minor": 0,
  "metadata": {
    "colab": {
      "provenance": [],
      "authorship_tag": "ABX9TyP28cDEbsqv77S7pJaPV+ED",
      "include_colab_link": true
    },
    "kernelspec": {
      "name": "python3",
      "display_name": "Python 3"
    },
    "language_info": {
      "name": "python"
    }
  },
  "cells": [
    {
      "cell_type": "markdown",
      "metadata": {
        "id": "view-in-github",
        "colab_type": "text"
      },
      "source": [
        "<a href=\"https://colab.research.google.com/github/GenaroHacker/actionable/blob/main/main.ipynb\" target=\"_parent\"><img src=\"https://colab.research.google.com/assets/colab-badge.svg\" alt=\"Open In Colab\"/></a>"
      ]
    },
    {
      "cell_type": "code",
      "execution_count": 1,
      "metadata": {
        "id": "a10dKvHmxoze",
        "cellView": "form"
      },
      "outputs": [],
      "source": [
        "%%capture\n",
        "#@title Set Up\n",
        "!git clone https://github.com/GenaroHacker/write_imports.git\n",
        "!git clone https://github.com/GenaroHacker/dict_to_kivy_app.git\n",
        "\n",
        "from write_imports.write_imports import write_imports\n",
        "\n"
      ]
    },
    {
      "cell_type": "code",
      "source": [
        "\n",
        "\n",
        "\n",
        "# Delete this line to see the new imports\n",
        "%%capture\n",
        "\n",
        "\n",
        "\n",
        "#@title Import Statements\n",
        "#Modules: ['write_imports', 'dict_to_kivy_app']\n",
        "\n",
        "\n",
        "\n",
        "from write_imports.write_imports import write_imports\n",
        "\n",
        "from write_imports.LearningPython.BasicExamples.intro_functions import print_hello_world\n",
        "\n",
        "from dict_to_kivy_app.modules.write_imports import write_imports\n",
        "\n",
        "from dict_to_kivy_app.modules.create_kv import create_kv\n",
        "\n",
        "from dict_to_kivy_app.modules.create_app import create_app\n",
        "\n",
        "from dict_to_kivy_app.modules.create_main import create_main\n",
        "\n",
        "from dict_to_kivy_app.modules.create_screen_and_kv import create_screen_and_kv\n",
        "\n",
        "from dict_to_kivy_app.modules.create_screen import sanitize_function_name\n",
        "from dict_to_kivy_app.modules.create_screen import create_screen\n",
        "\n",
        "from dict_to_kivy_app.modules.create_utils import create_utils\n",
        "\n",
        "\n",
        "\n",
        "\n",
        "\n",
        "print(write_imports([]))\n",
        "\n",
        "\n",
        "\n",
        "\n"
      ],
      "metadata": {
        "id": "1qVDR-TJx4VB",
        "cellView": "form"
      },
      "execution_count": 4,
      "outputs": []
    },
    {
      "cell_type": "code",
      "source": [
        "# @title Create App\n",
        "\n",
        "# Define app structure dictionary\n",
        "screens = {\n",
        "    'task_selector': {\n",
        "        'reachable_screens': ['subtask_sequence'],\n",
        "        'custom_functions': ['t1', 't2', 't3', 't4', 't5', 'Start'],\n",
        "        'grid_columns': 1,\n",
        "        'color': (0, 0.9, 0.5),\n",
        "    },\n",
        "    'subtask_sequence': {\n",
        "        'reachable_screens': ['task_selector'],\n",
        "        'custom_functions': ['Pause', 'Cancel', 'Next Step'],\n",
        "        'grid_columns': 3,\n",
        "        'color': (1, 1, 1),\n",
        "    }\n",
        "}\n",
        "\n",
        "# Create and download app\n",
        "create_app(\n",
        "    screen_dict=screens,\n",
        "    folder_name=\"example_apps\",\n",
        "    app_name=\"SampleApp\",\n",
        "    title_height=100,\n",
        "    button_height=50,\n",
        "    navigation_columns=2,\n",
        "    transition='NoTransition',\n",
        "    compress_and_download=True\n",
        ")\n"
      ],
      "metadata": {
        "cellView": "form",
        "id": "ffrFI7LHxh09",
        "outputId": "bb7b1337-a75a-4723-ca95-773d92fa662f",
        "colab": {
          "base_uri": "https://localhost:8080/",
          "height": 35
        }
      },
      "execution_count": 5,
      "outputs": [
        {
          "output_type": "display_data",
          "data": {
            "text/plain": [
              "<IPython.core.display.Javascript object>"
            ],
            "application/javascript": [
              "\n",
              "    async function download(id, filename, size) {\n",
              "      if (!google.colab.kernel.accessAllowed) {\n",
              "        return;\n",
              "      }\n",
              "      const div = document.createElement('div');\n",
              "      const label = document.createElement('label');\n",
              "      label.textContent = `Downloading \"${filename}\": `;\n",
              "      div.appendChild(label);\n",
              "      const progress = document.createElement('progress');\n",
              "      progress.max = size;\n",
              "      div.appendChild(progress);\n",
              "      document.body.appendChild(div);\n",
              "\n",
              "      const buffers = [];\n",
              "      let downloaded = 0;\n",
              "\n",
              "      const channel = await google.colab.kernel.comms.open(id);\n",
              "      // Send a message to notify the kernel that we're ready.\n",
              "      channel.send({})\n",
              "\n",
              "      for await (const message of channel.messages) {\n",
              "        // Send a message to notify the kernel that we're ready.\n",
              "        channel.send({})\n",
              "        if (message.buffers) {\n",
              "          for (const buffer of message.buffers) {\n",
              "            buffers.push(buffer);\n",
              "            downloaded += buffer.byteLength;\n",
              "            progress.value = downloaded;\n",
              "          }\n",
              "        }\n",
              "      }\n",
              "      const blob = new Blob(buffers, {type: 'application/binary'});\n",
              "      const a = document.createElement('a');\n",
              "      a.href = window.URL.createObjectURL(blob);\n",
              "      a.download = filename;\n",
              "      div.appendChild(a);\n",
              "      a.click();\n",
              "      div.remove();\n",
              "    }\n",
              "  "
            ]
          },
          "metadata": {}
        },
        {
          "output_type": "display_data",
          "data": {
            "text/plain": [
              "<IPython.core.display.Javascript object>"
            ],
            "application/javascript": [
              "download(\"download_4084b97d-b435-4028-a3d0-6bc4dd19cfbe\", \"example_apps.zip\", 5181)"
            ]
          },
          "metadata": {}
        },
        {
          "output_type": "execute_result",
          "data": {
            "text/plain": [
              "'example_apps/SampleApp'"
            ],
            "application/vnd.google.colaboratory.intrinsic+json": {
              "type": "string"
            }
          },
          "metadata": {},
          "execution_count": 5
        }
      ]
    }
  ]
}