{
  "nbformat": 4,
  "nbformat_minor": 0,
  "metadata": {
    "colab": {
      "provenance": [],
      "authorship_tag": "ABX9TyPNFzB5tkK+osfJ11u0Hbvt",
      "include_colab_link": true
    },
    "kernelspec": {
      "name": "python3",
      "display_name": "Python 3"
    },
    "language_info": {
      "name": "python"
    }
  },
  "cells": [
    {
      "cell_type": "markdown",
      "metadata": {
        "id": "view-in-github",
        "colab_type": "text"
      },
      "source": [
        "<a href=\"https://colab.research.google.com/github/GenaroHacker/actionable_builder/blob/main/main.ipynb\" target=\"_parent\"><img src=\"https://colab.research.google.com/assets/colab-badge.svg\" alt=\"Open In Colab\"/></a>"
      ]
    },
    {
      "cell_type": "markdown",
      "source": [
        "\n",
        "\n",
        "Database Structure\n",
        "\n",
        "\n",
        "```\n",
        "# Table: PLACES\n",
        "# (ID INTEGER PRIMARY KEY, NAME TEXT UNIQUE)\n",
        "\n",
        "# Table: CONTEXTS\n",
        "# (ID INTEGER PRIMARY KEY, PLACE_ID INTEGER, NAME TEXT, RANK INTEGER, FOREIGN KEY(PLACE_ID) REFERENCES PLACES(ID), UNIQUE(PLACE_ID, NAME))\n",
        "\n",
        "# Table: TAGS\n",
        "# (ID INTEGER PRIMARY KEY, CONTEXT_ID INTEGER, NAME TEXT, RANK INTEGER, FOREIGN KEY(CONTEXT_ID) REFERENCES CONTEXTS(ID), UNIQUE(CONTEXT_ID, NAME))\n",
        "\n",
        "# Table: TASKS\n",
        "# (ID INTEGER PRIMARY KEY, TAG_ID INTEGER, NAME TEXT, RANK INTEGER, FOREIGN KEY(TAG_ID) REFERENCES TAGS(ID), UNIQUE(TAG_ID, NAME))\n",
        "\n",
        "# Table: STEPS\n",
        "# (ID INTEGER PRIMARY KEY, TASK_ID INTEGER, NAME TEXT, ORDER_SEQUENCE INTEGER, MINUTES INTEGER, FOREIGN KEY(TASK_ID) REFERENCES TASKS(ID), UNIQUE(TASK_ID, ORDER_SEQUENCE))\n",
        "\n",
        "# Table: PLACEHOLDERS\n",
        "# (ID INTEGER PRIMARY KEY, TYPE TEXT, VALUE TEXT, RANK INTEGER, UNIQUE(TYPE, VALUE))\n",
        "\n",
        "# Table: HISTORY\n",
        "# (ID INTEGER PRIMARY KEY, STEP_ID INTEGER, ACTION TEXT, TIME TEXT, FOREIGN KEY(STEP_ID) REFERENCES STEPS(ID))\n",
        "\n",
        "```\n",
        "\n",
        "\n"
      ],
      "metadata": {
        "id": "zzV8fSoXkPgD"
      }
    },
    {
      "cell_type": "code",
      "execution_count": 1,
      "metadata": {
        "cellView": "form",
        "id": "oagz0DbYCkKj"
      },
      "outputs": [],
      "source": [
        "%%capture\n",
        "#@title Set Up\n",
        "!git clone https://github.com/GenaroHacker/write_imports.git\n",
        "from write_imports.write_imports import write_imports\n",
        "\n",
        "!git clone https://github.com/GenaroHacker/actionable_builder.git\n"
      ]
    },
    {
      "cell_type": "code",
      "source": [
        "\n",
        "# Delete this line to see the new imports\n",
        "%%capture\n",
        "\n",
        "\n",
        "\n",
        "#@title Import Statements\n",
        "#Modules: ['write_imports', 'actionable_builder']\n",
        "\n",
        "\n",
        "\n",
        "from write_imports.write_imports import write_imports\n",
        "\n",
        "from write_imports.LearningPython.BasicExamples.intro_functions import print_hello_world\n",
        "\n",
        "from actionable_builder.modules.rank_columns import ask_user_cmp\n",
        "from actionable_builder.modules.rank_columns import ask_user_cmp\n",
        "from actionable_builder.modules.rank_columns import check_minimum_tasks\n",
        "from actionable_builder.modules.rank_columns import extract_placeholders\n",
        "from actionable_builder.modules.rank_columns import check_placeholders\n",
        "from actionable_builder.modules.rank_columns import fetch_records_for_ranking\n",
        "from actionable_builder.modules.rank_columns import update_rank\n",
        "from actionable_builder.modules.rank_columns import sort_and_update\n",
        "\n",
        "from actionable_builder.modules.add_example_data import add_example_data\n",
        "\n",
        "from actionable_builder.modules.create_database import create_table\n",
        "from actionable_builder.modules.create_database import insert_record\n",
        "from actionable_builder.modules.create_database import create_empty_database\n",
        "from actionable_builder.modules.create_database import check_or_insert_with_parent\n",
        "from actionable_builder.modules.create_database import check_step_exists\n",
        "from actionable_builder.modules.create_database import add_task\n",
        "from actionable_builder.modules.create_database import add_placeholders\n",
        "from actionable_builder.modules.create_database import initialize_database\n",
        "from actionable_builder.modules.create_database import create_example_database\n",
        "from actionable_builder.modules.create_database import download_database\n",
        "\n",
        "from actionable_builder.modules.sql_core import insert_several_records\n",
        "from actionable_builder.modules.sql_core import read_records\n",
        "from actionable_builder.modules.sql_core import read_last_record\n",
        "from actionable_builder.modules.sql_core import update_record\n",
        "from actionable_builder.modules.sql_core import remove_record\n",
        "from actionable_builder.modules.sql_core import run_command\n",
        "\n",
        "from actionable_builder.modules.pick_zipfian import pick_zipfian\n",
        "\n",
        "\n",
        "\n",
        "\n",
        "\n",
        "print(write_imports([]))\n",
        "\n",
        "\n",
        "\n"
      ],
      "metadata": {
        "cellView": "form",
        "id": "sSs5fvl1CybO"
      },
      "execution_count": 2,
      "outputs": []
    },
    {
      "cell_type": "code",
      "source": [
        "# @title Create and Populate Database\n",
        "\n",
        "if __name__ == \"__main__\":\n",
        "    initialize_database()\n",
        "\n",
        "    # Example task input\n",
        "    task = {\n",
        "        \"place\": \"home\",\n",
        "        \"context\": \"create\",\n",
        "        \"tag\": \"guitar\",\n",
        "        \"task\": \"loop %note%\",\n",
        "        \"steps\": [\n",
        "            \"identify the note in each string\",\n",
        "            \"start the metronome at 30\",\n",
        "            \"loop over each string 3 times\"\n",
        "        ]\n",
        "    }\n",
        "\n",
        "    add_task(task)\n",
        "\n",
        "    # Example usage of add_placeholders\n",
        "    placeholders = {\n",
        "        \"note\": [\"C\", \"C#\", \"D\"],\n",
        "        \"color\": [\"red\", \"blue\", \"green\"]\n",
        "    }\n",
        "\n",
        "    add_placeholders(placeholders)\n",
        "\n"
      ],
      "metadata": {
        "colab": {
          "base_uri": "https://localhost:8080/"
        },
        "cellView": "form",
        "id": "xGt8d5zHGCBU",
        "outputId": "fd79b169-a2c4-44c2-dea4-05deeda94115"
      },
      "execution_count": 3,
      "outputs": [
        {
          "name": "stdout",
          "output_type": "stream",
          "text": [
            "Choose an option:\n",
            "1. Create empty database\n",
            "2. Create database with example data\n",
            "3. Upload database\n",
            "2\n"
          ]
        }
      ]
    },
    {
      "cell_type": "code",
      "source": [
        "# @title Rank Columns\n",
        "\n",
        "# This script updates ranks in 'tasks.db' tables.\n",
        "# It groups unranked records by parent ID, sorts them based on user input and updates their ranks.\n",
        "\n",
        "if __name__ == \"__main__\":\n",
        "    db_path = '/content/tasks.db'\n",
        "\n",
        "    check_minimum_tasks(db_path)\n",
        "    check_placeholders(db_path)\n",
        "\n",
        "    # Sorting and updating ranks for each table, grouped by their parent column\n",
        "    for table_name, parent_column in [('CONTEXTS', 'PLACE_ID'), ('TAGS', 'CONTEXT_ID'),\n",
        "                                      ('TASKS', 'TAG_ID'), ('PLACEHOLDERS', 'TYPE')]:\n",
        "        sort_and_update(db_path, table_name, parent_column)\n",
        "\n",
        "    download_database()\n",
        "\n"
      ],
      "metadata": {
        "colab": {
          "base_uri": "https://localhost:8080/",
          "height": 816
        },
        "cellView": "form",
        "id": "84cAz_5AmROY",
        "outputId": "681e4d32-32b7-4629-a656-6f874dd0f765"
      },
      "execution_count": 4,
      "outputs": [
        {
          "output_type": "stream",
          "name": "stdout",
          "text": [
            "Sorting for table: CONTEXTS\n",
            "Sorting group: 1\n",
            "Sorting group: 2\n",
            "Sorting group: 3\n",
            "Sorting for table: TAGS\n",
            "Sorting group: 1\n",
            "Sorting group: 2\n",
            "Sorting group: 3\n",
            "Sorting group: 4\n",
            "Sorting group: 5\n",
            "Sorting group: 6\n",
            "Sorting for table: TASKS\n",
            "Sorting group: 1\n",
            "Sorting group: 2\n",
            "Sorting group: 3\n",
            "Sorting group: 4\n",
            "Sorting group: 5\n",
            "Sorting group: 6\n",
            "Sorting group: 7\n",
            "Sorting group: 8\n",
            "Sorting group: 9\n",
            "Sorting group: 10\n",
            "Sorting group: 11\n",
            "Sorting group: 12\n",
            "Sorting group: 13\n",
            "Sorting group: 14\n",
            "Sorting group: 15\n",
            "Sorting group: 16\n",
            "Sorting group: 17\n",
            "Sorting group: 18\n",
            "Sorting for table: PLACEHOLDERS\n",
            "Sorting group: book\n",
            "Sorting group: color\n",
            "Sorting group: duration\n",
            "Sorting group: equipment\n",
            "Sorting group: event\n",
            "Sorting group: flavor\n",
            "Sorting group: herb\n",
            "Sorting group: instrument\n",
            "Sorting group: item\n",
            "Sorting group: material\n",
            "Sorting group: note\n",
            "Sorting group: period\n",
            "Sorting group: plant\n",
            "Sorting group: time\n",
            "Sorting group: topic\n"
          ]
        },
        {
          "output_type": "display_data",
          "data": {
            "text/plain": [
              "<IPython.core.display.Javascript object>"
            ],
            "application/javascript": [
              "\n",
              "    async function download(id, filename, size) {\n",
              "      if (!google.colab.kernel.accessAllowed) {\n",
              "        return;\n",
              "      }\n",
              "      const div = document.createElement('div');\n",
              "      const label = document.createElement('label');\n",
              "      label.textContent = `Downloading \"${filename}\": `;\n",
              "      div.appendChild(label);\n",
              "      const progress = document.createElement('progress');\n",
              "      progress.max = size;\n",
              "      div.appendChild(progress);\n",
              "      document.body.appendChild(div);\n",
              "\n",
              "      const buffers = [];\n",
              "      let downloaded = 0;\n",
              "\n",
              "      const channel = await google.colab.kernel.comms.open(id);\n",
              "      // Send a message to notify the kernel that we're ready.\n",
              "      channel.send({})\n",
              "\n",
              "      for await (const message of channel.messages) {\n",
              "        // Send a message to notify the kernel that we're ready.\n",
              "        channel.send({})\n",
              "        if (message.buffers) {\n",
              "          for (const buffer of message.buffers) {\n",
              "            buffers.push(buffer);\n",
              "            downloaded += buffer.byteLength;\n",
              "            progress.value = downloaded;\n",
              "          }\n",
              "        }\n",
              "      }\n",
              "      const blob = new Blob(buffers, {type: 'application/binary'});\n",
              "      const a = document.createElement('a');\n",
              "      a.href = window.URL.createObjectURL(blob);\n",
              "      a.download = filename;\n",
              "      div.appendChild(a);\n",
              "      a.click();\n",
              "      div.remove();\n",
              "    }\n",
              "  "
            ]
          },
          "metadata": {}
        },
        {
          "output_type": "display_data",
          "data": {
            "text/plain": [
              "<IPython.core.display.Javascript object>"
            ],
            "application/javascript": [
              "download(\"download_da395bb7-00d7-4214-a88a-19db799029a8\", \"tasks.db\", 65536)"
            ]
          },
          "metadata": {}
        }
      ]
    },
    {
      "cell_type": "code",
      "source": [
        "import sqlite3\n",
        "import random\n",
        "\n",
        "# Refactoring the function to be integrated into a final program\n",
        "def select_zipf_tasks(cursor):\n",
        "    \"\"\"\n",
        "    Selects 5 unique tasks for the selected place in the database using Zipf distribution.\n",
        "    Replaces placeholders in task names and returns a list of dicts with task id and text.\n",
        "\n",
        "    Args:\n",
        "    cursor (sqlite3.Cursor): A cursor to execute queries on the database.\n",
        "\n",
        "    Returns:\n",
        "    list of dicts: A list of 5 dictionaries with keys 'task id' and 'text'.\n",
        "    \"\"\"\n",
        "\n",
        "    def select_by_zipf(items):\n",
        "        \"\"\"\n",
        "        Applies Zipf's law to select an item based on rank.\n",
        "        \"\"\"\n",
        "        if not items:\n",
        "            return None\n",
        "\n",
        "        harmonic_sum = sum(1.0 / i for i in range(1, len(items) + 1))\n",
        "        probabilities = [(1.0 / i) / harmonic_sum for i in range(1, len(items) + 1)]\n",
        "        return random.choices(items, weights=probabilities, k=1)[0]\n",
        "\n",
        "    def replace_placeholders(task_name, placeholders):\n",
        "        \"\"\"\n",
        "        Replaces placeholders in a task name using Zipf distribution.\n",
        "        \"\"\"\n",
        "        while '%' in task_name:\n",
        "            start = task_name.find('%')\n",
        "            end = task_name.find('%', start + 1)\n",
        "            placeholder_type = task_name[start + 1:end]\n",
        "            relevant_placeholders = [p for p in placeholders if p[1] == placeholder_type]\n",
        "            placeholder_value = select_by_zipf(relevant_placeholders)[2] if relevant_placeholders else ''\n",
        "            task_name = task_name[:start] + placeholder_value + task_name[end + 1:]\n",
        "        return task_name\n",
        "\n",
        "    # Select the place marked as selected\n",
        "    cursor.execute(\"SELECT * FROM PLACES WHERE IS_SELECTED = 1;\")\n",
        "    selected_place = cursor.fetchone()\n",
        "    if not selected_place:\n",
        "        return \"No place is selected.\"\n",
        "\n",
        "    selected_place_id = selected_place[0]\n",
        "    selected_tasks = set()\n",
        "    final_tasks = []\n",
        "\n",
        "    # Fetch all placeholders for replacement\n",
        "    cursor.execute(\"SELECT * FROM PLACEHOLDERS;\")\n",
        "    placeholders = cursor.fetchall()\n",
        "\n",
        "    while len(final_tasks) < 5:\n",
        "        # Context, Tag, and Task selection\n",
        "        cursor.execute(f\"SELECT * FROM CONTEXTS WHERE PLACE_ID = {selected_place_id};\")\n",
        "        contexts = cursor.fetchall()\n",
        "        selected_context = select_by_zipf(contexts)\n",
        "        cursor.execute(f\"SELECT * FROM TAGS WHERE CONTEXT_ID = {selected_context[0]};\")\n",
        "        tags = cursor.fetchall()\n",
        "        selected_tag = select_by_zipf(tags)\n",
        "        cursor.execute(f\"SELECT * FROM TASKS WHERE TAG_ID = {selected_tag[0]};\")\n",
        "        tasks = cursor.fetchall()\n",
        "        selected_task = select_by_zipf(tasks)\n",
        "\n",
        "        # Ensure uniqueness of tasks\n",
        "        if selected_task[0] not in selected_tasks:\n",
        "            selected_tasks.add(selected_task[0])\n",
        "            task_with_placeholders_replaced = replace_placeholders(selected_task[2], placeholders)\n",
        "            final_tasks.append({\"task id\": selected_task[0], \"text\": task_with_placeholders_replaced})\n",
        "\n",
        "    return final_tasks\n",
        "\n",
        "# Example of how to use the function\n",
        "# Create a database connection and cursor\n",
        "conn = sqlite3.connect(db_path)\n",
        "cursor = conn.cursor()\n",
        "\n",
        "# Execute the function\n",
        "tasks_output = select_zipf_tasks(cursor)\n",
        "\n",
        "# Closing the database connection\n",
        "conn.close()\n",
        "\n",
        "tasks_output\n",
        "\n"
      ],
      "metadata": {
        "id": "_hZapjt5JbVG",
        "outputId": "8d63c408-2390-4890-c93f-bdf3fc6459fe",
        "colab": {
          "base_uri": "https://localhost:8080/"
        }
      },
      "execution_count": 17,
      "outputs": [
        {
          "output_type": "execute_result",
          "data": {
            "text/plain": [
              "[{'task id': 16, 'text': 'plant lavender in the garden'},\n",
              " {'task id': 11, 'text': 'practice piano for 15 minutes'},\n",
              " {'task id': 10, 'text': 'create a photo frame using cardboard'},\n",
              " {'task id': 21, 'text': 'loop D'},\n",
              " {'task id': 2, 'text': 'paint a landscape using blue colors'}]"
            ]
          },
          "metadata": {},
          "execution_count": 17
        }
      ]
    }
  ]
}