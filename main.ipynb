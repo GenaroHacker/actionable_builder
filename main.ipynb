{
  "nbformat": 4,
  "nbformat_minor": 0,
  "metadata": {
    "colab": {
      "provenance": [],
      "authorship_tag": "ABX9TyMpQLhxEVgpYrOf5j0BL/7E",
      "include_colab_link": true
    },
    "kernelspec": {
      "name": "python3",
      "display_name": "Python 3"
    },
    "language_info": {
      "name": "python"
    }
  },
  "cells": [
    {
      "cell_type": "markdown",
      "metadata": {
        "id": "view-in-github",
        "colab_type": "text"
      },
      "source": [
        "<a href=\"https://colab.research.google.com/github/GenaroHacker/actionable_builder/blob/main/main.ipynb\" target=\"_parent\"><img src=\"https://colab.research.google.com/assets/colab-badge.svg\" alt=\"Open In Colab\"/></a>"
      ]
    },
    {
      "cell_type": "code",
      "execution_count": 1,
      "metadata": {
        "cellView": "form",
        "id": "oagz0DbYCkKj"
      },
      "outputs": [],
      "source": [
        "%%capture\n",
        "#@title Set Up\n",
        "!git clone https://github.com/GenaroHacker/write_imports.git\n",
        "from write_imports.write_imports import write_imports\n",
        "\n",
        "!git clone https://github.com/GenaroHacker/actionable_builder.git\n"
      ]
    },
    {
      "cell_type": "code",
      "source": [
        "\n",
        "# Delete this line to see the new imports\n",
        "%%capture\n",
        "\n",
        "\n",
        "\n",
        "#@title Import Statements\n",
        "#Modules: ['write_imports', 'actionable_builder']\n",
        "\n",
        "\n",
        "\n",
        "from write_imports.write_imports import write_imports\n",
        "\n",
        "from write_imports.LearningPython.BasicExamples.intro_functions import print_hello_world\n",
        "\n",
        "from actionable_builder.modules.add_example_data import add_example_data\n",
        "\n",
        "from actionable_builder.modules.create_database import create_table\n",
        "from actionable_builder.modules.create_database import insert_record\n",
        "from actionable_builder.modules.create_database import create_empty_database\n",
        "from actionable_builder.modules.create_database import check_or_insert_with_parent\n",
        "from actionable_builder.modules.create_database import check_step_exists\n",
        "from actionable_builder.modules.create_database import add_task\n",
        "from actionable_builder.modules.create_database import add_placeholders\n",
        "from actionable_builder.modules.create_database import initialize_database\n",
        "from actionable_builder.modules.create_database import create_example_database\n",
        "from actionable_builder.modules.create_database import download_database\n",
        "\n",
        "from actionable_builder.modules.sql_core import insert_several_records\n",
        "from actionable_builder.modules.sql_core import read_records\n",
        "from actionable_builder.modules.sql_core import read_last_record\n",
        "from actionable_builder.modules.sql_core import update_record\n",
        "from actionable_builder.modules.sql_core import remove_record\n",
        "from actionable_builder.modules.sql_core import run_command\n",
        "\n",
        "from actionable_builder.modules.pick_zipfian import pick_zipfian\n",
        "\n",
        "\n",
        "\n",
        "\n",
        "\n",
        "print(write_imports([]))\n",
        "\n",
        "\n",
        "\n"
      ],
      "metadata": {
        "cellView": "form",
        "id": "sSs5fvl1CybO"
      },
      "execution_count": 2,
      "outputs": []
    },
    {
      "cell_type": "code",
      "source": [
        "# @title Main Execution\n",
        "\n",
        "# Main Execution\n",
        "if __name__ == \"__main__\":\n",
        "    initialize_database()\n",
        "\n",
        "    # Example task input\n",
        "    task = {\n",
        "        \"place\": \"gym\",\n",
        "        \"context\": \"create\",\n",
        "        \"tag\": \"guitar\",\n",
        "        \"task\": \"loop %note%\",\n",
        "        \"steps\": [\n",
        "            \"identify the note in each string\",\n",
        "            \"start the metronome at 30\",\n",
        "            \"loop over each string 3 times\"\n",
        "        ]\n",
        "    }\n",
        "\n",
        "    add_task(task)\n",
        "\n",
        "    # Example usage of add_placeholders\n",
        "    placeholders = {\n",
        "        \"note\": [\"C\", \"C#\", \"D\"],\n",
        "        \"color\": [\"red\", \"blue\", \"green\"]\n",
        "    }\n",
        "\n",
        "    add_placeholders(placeholders)\n",
        "\n",
        "    download_database()"
      ],
      "metadata": {
        "colab": {
          "base_uri": "https://localhost:8080/",
          "height": 104
        },
        "cellView": "form",
        "id": "xGt8d5zHGCBU",
        "outputId": "771dce1c-f003-4b15-cc8d-76a572369b90"
      },
      "execution_count": 3,
      "outputs": [
        {
          "name": "stdout",
          "output_type": "stream",
          "text": [
            "Choose an option:\n",
            "1. Create empty database\n",
            "2. Create database with example data\n",
            "3. Upload database\n",
            "2\n"
          ]
        },
        {
          "output_type": "display_data",
          "data": {
            "text/plain": [
              "<IPython.core.display.Javascript object>"
            ],
            "application/javascript": [
              "\n",
              "    async function download(id, filename, size) {\n",
              "      if (!google.colab.kernel.accessAllowed) {\n",
              "        return;\n",
              "      }\n",
              "      const div = document.createElement('div');\n",
              "      const label = document.createElement('label');\n",
              "      label.textContent = `Downloading \"${filename}\": `;\n",
              "      div.appendChild(label);\n",
              "      const progress = document.createElement('progress');\n",
              "      progress.max = size;\n",
              "      div.appendChild(progress);\n",
              "      document.body.appendChild(div);\n",
              "\n",
              "      const buffers = [];\n",
              "      let downloaded = 0;\n",
              "\n",
              "      const channel = await google.colab.kernel.comms.open(id);\n",
              "      // Send a message to notify the kernel that we're ready.\n",
              "      channel.send({})\n",
              "\n",
              "      for await (const message of channel.messages) {\n",
              "        // Send a message to notify the kernel that we're ready.\n",
              "        channel.send({})\n",
              "        if (message.buffers) {\n",
              "          for (const buffer of message.buffers) {\n",
              "            buffers.push(buffer);\n",
              "            downloaded += buffer.byteLength;\n",
              "            progress.value = downloaded;\n",
              "          }\n",
              "        }\n",
              "      }\n",
              "      const blob = new Blob(buffers, {type: 'application/binary'});\n",
              "      const a = document.createElement('a');\n",
              "      a.href = window.URL.createObjectURL(blob);\n",
              "      a.download = filename;\n",
              "      div.appendChild(a);\n",
              "      a.click();\n",
              "      div.remove();\n",
              "    }\n",
              "  "
            ]
          },
          "metadata": {}
        },
        {
          "output_type": "display_data",
          "data": {
            "text/plain": [
              "<IPython.core.display.Javascript object>"
            ],
            "application/javascript": [
              "download(\"download_abab4cb6-ab8c-49cf-8bbd-91b50907e336\", \"tasks.db\", 65536)"
            ]
          },
          "metadata": {}
        }
      ]
    },
    {
      "cell_type": "code",
      "source": [
        "# @title Rank Columns\n",
        "import sqlite3\n",
        "import functools\n",
        "\n",
        "def ask_user_cmp(item1, item2):\n",
        "    while True:\n",
        "        print(f\" [ 1 ] [{item1}] ?\" )\n",
        "        print(f\" [ 2 ] [{item2}] ?\")\n",
        "        cmp = input(\" --> ? \")\n",
        "        if cmp == \"1\":\n",
        "            return 1\n",
        "        if cmp == \"2\":\n",
        "            return -1\n",
        "        print(\"1 or 2, please!\")\n",
        "\n",
        "##############################################################\n",
        "def ask_user_cmp(item1, item2):\n",
        "    # This function sorts items alphabetically in ascending order for automated testing.\n",
        "    # To switch back to manual sorting, delete this function and use the original 'ask_user_cmp'.\n",
        "    return (item1 < item2) - (item1 > item2)\n",
        "##############################################################\n",
        "\n",
        "def check_minimum_tasks(database_path):\n",
        "    my_connection = sqlite3.connect(database_path)\n",
        "    my_cursor = my_connection.cursor()\n",
        "    my_cursor.execute(\"\"\"\n",
        "        SELECT P.ID, COUNT(T.ID)\n",
        "        FROM PLACES P\n",
        "        JOIN CONTEXTS C ON P.ID = C.PLACE_ID\n",
        "        JOIN TAGS TG ON C.ID = TG.CONTEXT_ID\n",
        "        JOIN TASKS T ON TG.ID = T.TAG_ID\n",
        "        GROUP BY P.ID\n",
        "    \"\"\")\n",
        "    task_counts = my_cursor.fetchall()\n",
        "    my_connection.close()\n",
        "    for place_id, count in task_counts:\n",
        "        if count < 5:\n",
        "            raise ValueError(f\"Place ID {place_id} has only {count} tasks, which is less than the required minimum of 5.\")\n",
        "\n",
        "def fetch_records_for_ranking(database_path, table_name, parent_column=None, rank_column='RANK'):\n",
        "    my_connection = sqlite3.connect(database_path)\n",
        "    my_cursor = my_connection.cursor()\n",
        "    my_cursor.execute(f\"\"\"\n",
        "        SELECT * FROM {table_name}\n",
        "        WHERE {parent_column} IN (\n",
        "            SELECT {parent_column} FROM {table_name} WHERE {rank_column} IS NULL\n",
        "        ) AND {rank_column} IS NULL\n",
        "        ORDER BY {parent_column}, {rank_column} ASC\n",
        "    \"\"\")\n",
        "    records = my_cursor.fetchall()\n",
        "    my_connection.close()\n",
        "    return records\n",
        "\n",
        "def update_rank(database_path, table_name, record_id, new_rank, rank_column='RANK'):\n",
        "    my_connection = sqlite3.connect(database_path)\n",
        "    my_cursor = my_connection.cursor()\n",
        "    my_cursor.execute(f\"UPDATE {table_name} SET {rank_column} = {new_rank} WHERE ID = {record_id}\")\n",
        "    my_connection.commit()\n",
        "    my_connection.close()\n",
        "\n",
        "def sort_and_update(database_path, table_name, parent_column=None, rank_column='RANK'):\n",
        "    records_to_rank = fetch_records_for_ranking(database_path, table_name, parent_column, rank_column)\n",
        "    grouped_records = {}\n",
        "    for record in records_to_rank:\n",
        "        parent_id = record[1] if parent_column else 'default'\n",
        "        if parent_id not in grouped_records:\n",
        "            grouped_records[parent_id] = []\n",
        "        grouped_records[parent_id].append(record)\n",
        "\n",
        "    ask_user_key = functools.cmp_to_key(lambda x, y: ask_user_cmp(x[2], y[2]))  # Comparing by name\n",
        "\n",
        "    print(f\"Sorting for table: {table_name}\")\n",
        "    for group, records in grouped_records.items():\n",
        "        print(f\"Sorting group: {group}\")\n",
        "        records.sort(key=ask_user_key, reverse=True)\n",
        "        for rank, record in enumerate(records, start=1):\n",
        "            update_rank(database_path, table_name, record[0], rank, rank_column)\n",
        "\n",
        "if __name__ == \"__main__\":\n",
        "    db_path = '/content/tasks.db'  # Replace with your database path\n",
        "\n",
        "    # Sort and update all necessary rankings in order, skipping PLACES and handling STEPS separately\n",
        "    for table_name, parent_column in [('CONTEXTS', 'PLACE_ID'), ('TAGS', 'CONTEXT_ID'),\n",
        "                                      ('TASKS', 'TAG_ID'), ('PLACEHOLDERS', 'TYPE')]:\n",
        "        sort_and_update(db_path, table_name, parent_column)\n"
      ],
      "metadata": {
        "colab": {
          "base_uri": "https://localhost:8080/"
        },
        "cellView": "form",
        "id": "84cAz_5AmROY",
        "outputId": "41a0fb9d-d315-41cb-fca8-5624c2e6af8a"
      },
      "execution_count": 4,
      "outputs": [
        {
          "output_type": "stream",
          "name": "stdout",
          "text": [
            "Sorting for table: CONTEXTS\n",
            "Sorting group: 1\n",
            "Sorting group: 2\n",
            "Sorting group: 3\n",
            "Sorting for table: TAGS\n",
            "Sorting group: 1\n",
            "Sorting group: 2\n",
            "Sorting group: 3\n",
            "Sorting group: 4\n",
            "Sorting group: 5\n",
            "Sorting group: 6\n",
            "Sorting group: 7\n",
            "Sorting for table: TASKS\n",
            "Sorting group: 1\n",
            "Sorting group: 2\n",
            "Sorting group: 3\n",
            "Sorting group: 4\n",
            "Sorting group: 5\n",
            "Sorting group: 6\n",
            "Sorting group: 7\n",
            "Sorting group: 8\n",
            "Sorting group: 9\n",
            "Sorting group: 10\n",
            "Sorting group: 11\n",
            "Sorting group: 12\n",
            "Sorting group: 13\n",
            "Sorting group: 14\n",
            "Sorting group: 15\n",
            "Sorting group: 16\n",
            "Sorting group: 17\n",
            "Sorting group: 18\n",
            "Sorting for table: PLACEHOLDERS\n",
            "Sorting group: book\n",
            "Sorting group: color\n",
            "Sorting group: duration\n",
            "Sorting group: equipment\n",
            "Sorting group: event\n",
            "Sorting group: flavor\n",
            "Sorting group: herb\n",
            "Sorting group: instrument\n",
            "Sorting group: item\n",
            "Sorting group: material\n",
            "Sorting group: note\n",
            "Sorting group: period\n",
            "Sorting group: plant\n",
            "Sorting group: time\n",
            "Sorting group: topic\n"
          ]
        }
      ]
    }
  ]
}