{
  "nbformat": 4,
  "nbformat_minor": 0,
  "metadata": {
    "colab": {
      "provenance": [],
      "authorship_tag": "ABX9TyNCin1ojGq4z9LFSx2B9dYe",
      "include_colab_link": true
    },
    "kernelspec": {
      "name": "python3",
      "display_name": "Python 3"
    },
    "language_info": {
      "name": "python"
    }
  },
  "cells": [
    {
      "cell_type": "markdown",
      "metadata": {
        "id": "view-in-github",
        "colab_type": "text"
      },
      "source": [
        "<a href=\"https://colab.research.google.com/github/GenaroHacker/actionable_builder/blob/main/main.ipynb\" target=\"_parent\"><img src=\"https://colab.research.google.com/assets/colab-badge.svg\" alt=\"Open In Colab\"/></a>"
      ]
    },
    {
      "cell_type": "code",
      "execution_count": 1,
      "metadata": {
        "cellView": "form",
        "id": "oagz0DbYCkKj"
      },
      "outputs": [],
      "source": [
        "%%capture\n",
        "#@title Set Up\n",
        "!git clone https://github.com/GenaroHacker/write_imports.git\n",
        "from write_imports.write_imports import write_imports\n",
        "\n",
        "!git clone https://github.com/GenaroHacker/actionable_builder.git\n"
      ]
    },
    {
      "cell_type": "code",
      "source": [
        "\n",
        "# Delete this line to see the new imports\n",
        "%%capture\n",
        "\n",
        "\n",
        "\n",
        "#@title Import Statements\n",
        "#Modules: ['write_imports', 'actionable_builder']\n",
        "\n",
        "\n",
        "\n",
        "from write_imports.write_imports import write_imports\n",
        "\n",
        "from write_imports.LearningPython.BasicExamples.intro_functions import print_hello_world\n",
        "\n",
        "from actionable_builder.modules.add_example_data import add_example_data\n",
        "\n",
        "from actionable_builder.modules.create_database import create_table\n",
        "from actionable_builder.modules.create_database import insert_record\n",
        "from actionable_builder.modules.create_database import create_empty_database\n",
        "from actionable_builder.modules.create_database import check_or_insert_with_parent\n",
        "from actionable_builder.modules.create_database import check_step_exists\n",
        "from actionable_builder.modules.create_database import add_task\n",
        "from actionable_builder.modules.create_database import add_placeholders\n",
        "from actionable_builder.modules.create_database import initialize_database\n",
        "from actionable_builder.modules.create_database import create_example_database\n",
        "from actionable_builder.modules.create_database import download_database\n",
        "\n",
        "from actionable_builder.modules.sql_core import insert_several_records\n",
        "from actionable_builder.modules.sql_core import read_records\n",
        "from actionable_builder.modules.sql_core import read_last_record\n",
        "from actionable_builder.modules.sql_core import update_record\n",
        "from actionable_builder.modules.sql_core import remove_record\n",
        "from actionable_builder.modules.sql_core import run_command\n",
        "\n",
        "from actionable_builder.modules.pick_zipfian import pick_zipfian\n",
        "\n",
        "\n",
        "\n",
        "\n",
        "\n",
        "print(write_imports([]))\n",
        "\n",
        "\n",
        "\n"
      ],
      "metadata": {
        "cellView": "form",
        "id": "sSs5fvl1CybO"
      },
      "execution_count": 3,
      "outputs": []
    },
    {
      "cell_type": "code",
      "source": [
        "# @title Main Execution\n",
        "\n",
        "# Main Execution\n",
        "if __name__ == \"__main__\":\n",
        "    initialize_database()\n",
        "\n",
        "    # Example task input\n",
        "    task = {\n",
        "        \"place\": \"home\",\n",
        "        \"context\": \"create\",\n",
        "        \"tag\": \"guitar\",\n",
        "        \"task\": \"loop %note%\",\n",
        "        \"steps\": [\n",
        "            \"identify the note in each string\",\n",
        "            \"start the metronome at 30\",\n",
        "            \"loop over each string 3 times\"\n",
        "        ]\n",
        "    }\n",
        "\n",
        "    add_task(task)\n",
        "\n",
        "    # Example usage of add_placeholders\n",
        "    placeholders = {\n",
        "        \"note\": [\"C\", \"C#\", \"D\"],\n",
        "        \"color\": [\"red\", \"blue\", \"green\"]\n",
        "    }\n",
        "\n",
        "    add_placeholders(placeholders)\n",
        "\n",
        "    download_database()"
      ],
      "metadata": {
        "colab": {
          "base_uri": "https://localhost:8080/",
          "height": 104
        },
        "cellView": "form",
        "id": "xGt8d5zHGCBU",
        "outputId": "abf6f6fc-e829-4ff7-8203-a13d56283a90"
      },
      "execution_count": 4,
      "outputs": [
        {
          "name": "stdout",
          "output_type": "stream",
          "text": [
            "Choose an option:\n",
            "1. Create empty database\n",
            "2. Create database with example data\n",
            "3. Upload database\n",
            "2\n"
          ]
        },
        {
          "output_type": "display_data",
          "data": {
            "text/plain": [
              "<IPython.core.display.Javascript object>"
            ],
            "application/javascript": [
              "\n",
              "    async function download(id, filename, size) {\n",
              "      if (!google.colab.kernel.accessAllowed) {\n",
              "        return;\n",
              "      }\n",
              "      const div = document.createElement('div');\n",
              "      const label = document.createElement('label');\n",
              "      label.textContent = `Downloading \"${filename}\": `;\n",
              "      div.appendChild(label);\n",
              "      const progress = document.createElement('progress');\n",
              "      progress.max = size;\n",
              "      div.appendChild(progress);\n",
              "      document.body.appendChild(div);\n",
              "\n",
              "      const buffers = [];\n",
              "      let downloaded = 0;\n",
              "\n",
              "      const channel = await google.colab.kernel.comms.open(id);\n",
              "      // Send a message to notify the kernel that we're ready.\n",
              "      channel.send({})\n",
              "\n",
              "      for await (const message of channel.messages) {\n",
              "        // Send a message to notify the kernel that we're ready.\n",
              "        channel.send({})\n",
              "        if (message.buffers) {\n",
              "          for (const buffer of message.buffers) {\n",
              "            buffers.push(buffer);\n",
              "            downloaded += buffer.byteLength;\n",
              "            progress.value = downloaded;\n",
              "          }\n",
              "        }\n",
              "      }\n",
              "      const blob = new Blob(buffers, {type: 'application/binary'});\n",
              "      const a = document.createElement('a');\n",
              "      a.href = window.URL.createObjectURL(blob);\n",
              "      a.download = filename;\n",
              "      div.appendChild(a);\n",
              "      a.click();\n",
              "      div.remove();\n",
              "    }\n",
              "  "
            ]
          },
          "metadata": {}
        },
        {
          "output_type": "display_data",
          "data": {
            "text/plain": [
              "<IPython.core.display.Javascript object>"
            ],
            "application/javascript": [
              "download(\"download_f4da968c-76ad-4f50-bc9f-9b8a4d497398\", \"tasks.db\", 65536)"
            ]
          },
          "metadata": {}
        }
      ]
    }
  ]
}