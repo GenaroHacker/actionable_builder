{
  "nbformat": 4,
  "nbformat_minor": 0,
  "metadata": {
    "colab": {
      "provenance": [],
      "authorship_tag": "ABX9TyMSJhHiCt6uKIXPe0dr/WDN",
      "include_colab_link": true
    },
    "kernelspec": {
      "name": "python3",
      "display_name": "Python 3"
    },
    "language_info": {
      "name": "python"
    }
  },
  "cells": [
    {
      "cell_type": "markdown",
      "metadata": {
        "id": "view-in-github",
        "colab_type": "text"
      },
      "source": [
        "<a href=\"https://colab.research.google.com/github/GenaroHacker/actionable/blob/main/create_app.ipynb\" target=\"_parent\"><img src=\"https://colab.research.google.com/assets/colab-badge.svg\" alt=\"Open In Colab\"/></a>"
      ]
    },
    {
      "cell_type": "code",
      "execution_count": null,
      "metadata": {
        "cellView": "form",
        "id": "jopjlZ4wHYRG"
      },
      "outputs": [],
      "source": [
        "# @title Set Up\n",
        "%%capture\n",
        "!git clone https://github.com/GenaroHacker/dict_to_kivy_app.git\n",
        "from dict_to_kivy_app.modules.create_app import create_app"
      ]
    },
    {
      "cell_type": "code",
      "source": [
        "# @title Create App\n",
        "\n",
        "# Define app structure dictionary\n",
        "screens = {\n",
        "    'task_selector': {\n",
        "        'reachable_screens': ['subtask_sequence'],\n",
        "        'custom_functions': ['t1', 't2', 't3', 't4', 't5', 'Start'],\n",
        "        'grid_columns': 1,\n",
        "        'color': (0, 0.9, 0.5),\n",
        "    },\n",
        "    'subtask_sequence': {\n",
        "        'reachable_screens': ['task_selector'],\n",
        "        'custom_functions': ['Pause', 'Cancel', 'Next Step'],\n",
        "        'grid_columns': 3,\n",
        "        'color': (1, 1, 1),\n",
        "    }\n",
        "}\n",
        "\n",
        "# Create and download app\n",
        "create_app(\n",
        "    screen_dict=screens,\n",
        "    folder_name=\"example_apps\",\n",
        "    app_name=\"SampleApp\",\n",
        "    title_height=100,\n",
        "    button_height=50,\n",
        "    navigation_columns=2,\n",
        "    transition='NoTransition',\n",
        "    compress_and_download=True\n",
        ")\n"
      ],
      "metadata": {
        "colab": {
          "base_uri": "https://localhost:8080/",
          "height": 35
        },
        "id": "85yJap-aHcME",
        "outputId": "0e2a1a5a-6729-4669-9495-bbff4dd9a624",
        "cellView": "form"
      },
      "execution_count": null,
      "outputs": [
        {
          "output_type": "display_data",
          "data": {
            "text/plain": [
              "<IPython.core.display.Javascript object>"
            ],
            "application/javascript": [
              "\n",
              "    async function download(id, filename, size) {\n",
              "      if (!google.colab.kernel.accessAllowed) {\n",
              "        return;\n",
              "      }\n",
              "      const div = document.createElement('div');\n",
              "      const label = document.createElement('label');\n",
              "      label.textContent = `Downloading \"${filename}\": `;\n",
              "      div.appendChild(label);\n",
              "      const progress = document.createElement('progress');\n",
              "      progress.max = size;\n",
              "      div.appendChild(progress);\n",
              "      document.body.appendChild(div);\n",
              "\n",
              "      const buffers = [];\n",
              "      let downloaded = 0;\n",
              "\n",
              "      const channel = await google.colab.kernel.comms.open(id);\n",
              "      // Send a message to notify the kernel that we're ready.\n",
              "      channel.send({})\n",
              "\n",
              "      for await (const message of channel.messages) {\n",
              "        // Send a message to notify the kernel that we're ready.\n",
              "        channel.send({})\n",
              "        if (message.buffers) {\n",
              "          for (const buffer of message.buffers) {\n",
              "            buffers.push(buffer);\n",
              "            downloaded += buffer.byteLength;\n",
              "            progress.value = downloaded;\n",
              "          }\n",
              "        }\n",
              "      }\n",
              "      const blob = new Blob(buffers, {type: 'application/binary'});\n",
              "      const a = document.createElement('a');\n",
              "      a.href = window.URL.createObjectURL(blob);\n",
              "      a.download = filename;\n",
              "      div.appendChild(a);\n",
              "      a.click();\n",
              "      div.remove();\n",
              "    }\n",
              "  "
            ]
          },
          "metadata": {}
        },
        {
          "output_type": "display_data",
          "data": {
            "text/plain": [
              "<IPython.core.display.Javascript object>"
            ],
            "application/javascript": [
              "download(\"download_e4dac2f9-66ca-468b-824b-d2e09a40d224\", \"example_apps.zip\", 5181)"
            ]
          },
          "metadata": {}
        },
        {
          "output_type": "execute_result",
          "data": {
            "text/plain": [
              "'example_apps/SampleApp'"
            ],
            "application/vnd.google.colaboratory.intrinsic+json": {
              "type": "string"
            }
          },
          "metadata": {},
          "execution_count": 2
        }
      ]
    },
    {
      "cell_type": "markdown",
      "source": [
        "\n",
        "\n",
        "```\n",
        "from kivy.config import Config\n",
        "Config.set('graphics', 'rotation', '0')  # This should be set to 0 for normal orientation\n",
        "\n",
        "```\n",
        "\n",
        "```\n",
        "                ToggleButton:\n",
        "                    text: 't1'\n",
        "                    size_hint_y: None\n",
        "                    height: 50\n",
        "                    group: 'tasks_group'\n",
        "                    btn_id: 1\n",
        "                    on_press:\n",
        "                        root.active_task = self.btn_id\n",
        "                        start_button.disabled = False\n",
        "\n",
        "                ToggleButton:\n",
        "                    text: 't2'\n",
        "                    size_hint_y: None\n",
        "                    height: 50\n",
        "                    group: 'tasks_group'\n",
        "                    btn_id: 2\n",
        "                    on_press:\n",
        "                        root.active_task = self.btn_id\n",
        "                        start_button.disabled = False\n",
        "\n",
        "                ToggleButton:\n",
        "                    text: 't3'\n",
        "                    size_hint_y: None\n",
        "                    height: 50\n",
        "                    group: 'tasks_group'\n",
        "                    btn_id: 3\n",
        "                    on_press:\n",
        "                        root.active_task = self.btn_id\n",
        "                        start_button.disabled = False\n",
        "\n",
        "                ToggleButton:\n",
        "                    text: 't4'\n",
        "                    size_hint_y: None\n",
        "                    height: 50\n",
        "                    group: 'tasks_group'\n",
        "                    btn_id: 4\n",
        "                    on_press:\n",
        "                        root.active_task = self.btn_id\n",
        "                        start_button.disabled = False\n",
        "\n",
        "                ToggleButton:\n",
        "                    text: 't5'\n",
        "                    size_hint_y: None\n",
        "                    height: 50\n",
        "                    group: 'tasks_group'\n",
        "                    btn_id: 5\n",
        "                    on_press:\n",
        "                        root.active_task = self.btn_id\n",
        "                        start_button.disabled = False\n",
        "\n",
        "                Button:\n",
        "                    text: 'Start'\n",
        "                    size_hint_y: None\n",
        "                    height: 50\n",
        "                    id: start_button\n",
        "                    disabled: True\n",
        "                    on_press: root.start(root.active_task)\n",
        "\n",
        "```\n",
        "\n",
        "\n",
        "```\n",
        "def t1(task_id):\n",
        "\tprint(task_id)\n",
        "\n",
        "```\n"
      ],
      "metadata": {
        "id": "0CB07JF1d3U9"
      }
    }
  ]
}