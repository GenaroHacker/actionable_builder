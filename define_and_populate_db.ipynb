{
  "nbformat": 4,
  "nbformat_minor": 0,
  "metadata": {
    "colab": {
      "provenance": [],
      "authorship_tag": "ABX9TyOp2qvo2X+eF1tBDBW5q+uM",
      "include_colab_link": true
    },
    "kernelspec": {
      "name": "python3",
      "display_name": "Python 3"
    },
    "language_info": {
      "name": "python"
    }
  },
  "cells": [
    {
      "cell_type": "markdown",
      "metadata": {
        "id": "view-in-github",
        "colab_type": "text"
      },
      "source": [
        "<a href=\"https://colab.research.google.com/github/GenaroHacker/actionable/blob/main/define_and_populate_db.ipynb\" target=\"_parent\"><img src=\"https://colab.research.google.com/assets/colab-badge.svg\" alt=\"Open In Colab\"/></a>"
      ]
    },
    {
      "cell_type": "code",
      "source": [
        "import sqlite3\n",
        "\n",
        "def execute_sql(db_name, sql_command):\n",
        "    with sqlite3.connect(db_name) as conn:\n",
        "        cursor = conn.cursor()\n",
        "        cursor.execute(sql_command)\n",
        "        conn.commit()\n",
        "\n",
        "def create_tables(db_name):\n",
        "    table_creation_sql = [\n",
        "        \"\"\"CREATE TABLE IF NOT EXISTS CONTEXTS (\n",
        "            ID INTEGER PRIMARY KEY AUTOINCREMENT,\n",
        "            NAME TEXT,\n",
        "            RANK INTEGER,\n",
        "            R REAL CHECK(R >= 0 AND R <= 1),\n",
        "            G REAL CHECK(G >= 0 AND G <= 1),\n",
        "            B REAL CHECK(B >= 0 AND B <= 1)\n",
        "        )\"\"\",\n",
        "        \"\"\"CREATE TABLE IF NOT EXISTS TAGS (\n",
        "            ID INTEGER PRIMARY KEY AUTOINCREMENT,\n",
        "            CONTEXT_ID INTEGER,\n",
        "            NAME TEXT,\n",
        "            RANK INTEGER\n",
        "        )\"\"\",\n",
        "        \"\"\"CREATE TABLE IF NOT EXISTS TASKS (\n",
        "            ID INTEGER PRIMARY KEY AUTOINCREMENT,\n",
        "            TAG_ID INTEGER,\n",
        "            NAME TEXT,\n",
        "            RANK INTEGER\n",
        "        )\"\"\",\n",
        "        \"\"\"CREATE TABLE IF NOT EXISTS SUBTASKS (\n",
        "            ID INTEGER PRIMARY KEY AUTOINCREMENT,\n",
        "            TASK_ID INTEGER,\n",
        "            NAME TEXT,\n",
        "            ORDER_SEQUENCE INTEGER,\n",
        "            MINUTES INTEGER\n",
        "        )\"\"\",\n",
        "        \"\"\"CREATE TABLE IF NOT EXISTS PLACEHOLDERS (\n",
        "            ID INTEGER PRIMARY KEY AUTOINCREMENT,\n",
        "            TYPE TEXT,\n",
        "            VALUE TEXT\n",
        "        )\"\"\",\n",
        "        \"\"\"CREATE TABLE IF NOT EXISTS HISTORY (\n",
        "            ID INTEGER PRIMARY KEY AUTOINCREMENT,\n",
        "            SUBTASK_ID INTEGER,\n",
        "            ACTION TEXT,\n",
        "            TIME TIMESTAMP DEFAULT CURRENT_TIMESTAMP\n",
        "        )\"\"\"\n",
        "    ]\n",
        "    for sql in table_creation_sql:\n",
        "        execute_sql(db_name, sql)\n",
        "\n",
        "def populate_tables(db_name):\n",
        "    example_inserts = [\n",
        "        \"INSERT INTO CONTEXTS (NAME, RANK, R, G, B) VALUES ('Example Context', 1, 0.5, 0.5, 0.5)\",\n",
        "        \"INSERT INTO TAGS (CONTEXT_ID, NAME, RANK) VALUES (1, 'Example Tag', 1)\",\n",
        "        \"INSERT INTO TASKS (TAG_ID, NAME, RANK) VALUES (1, 'Example Task', 1)\",\n",
        "        \"INSERT INTO SUBTASKS (TASK_ID, NAME, ORDER_SEQUENCE, MINUTES) VALUES (1, 'Example Subtask', 1, 30)\",\n",
        "        \"INSERT INTO PLACEHOLDERS (TYPE, VALUE) VALUES ('Example Type', 'Example Value')\",\n",
        "        \"INSERT INTO HISTORY (SUBTASK_ID, ACTION) VALUES (1, 'Example Action')\"\n",
        "    ]\n",
        "    for sql in example_inserts:\n",
        "        execute_sql(db_name, sql)\n",
        "\n",
        "def check_tables_existence(db_name):\n",
        "    with sqlite3.connect(db_name) as conn:\n",
        "        cursor = conn.cursor()\n",
        "        cursor.execute(\"SELECT name FROM sqlite_master WHERE type='table';\")\n",
        "        return cursor.fetchall()\n",
        "\n",
        "if __name__ == \"__main__\":\n",
        "    db_name = \"RefactoredBaseProducts.db\"\n",
        "    create_tables(db_name)\n",
        "    populate_tables(db_name)\n",
        "    print(check_tables_existence(db_name))\n"
      ],
      "metadata": {
        "id": "wiHn_jNrrSPE",
        "outputId": "f426f0c0-9705-4837-b7e8-2e05e20851e4",
        "colab": {
          "base_uri": "https://localhost:8080/"
        }
      },
      "execution_count": 1,
      "outputs": [
        {
          "output_type": "stream",
          "name": "stdout",
          "text": [
            "[('CONTEXTS',), ('sqlite_sequence',), ('TAGS',), ('TASKS',), ('SUBTASKS',), ('PLACEHOLDERS',), ('HISTORY',)]\n"
          ]
        }
      ]
    }
  ]
}