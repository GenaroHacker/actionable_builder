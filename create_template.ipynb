{
  "nbformat": 4,
  "nbformat_minor": 0,
  "metadata": {
    "colab": {
      "provenance": [],
      "authorship_tag": "ABX9TyNW8NZhekIeAczn1XdRV+1C",
      "include_colab_link": true
    },
    "kernelspec": {
      "name": "python3",
      "display_name": "Python 3"
    },
    "language_info": {
      "name": "python"
    }
  },
  "cells": [
    {
      "cell_type": "markdown",
      "metadata": {
        "id": "view-in-github",
        "colab_type": "text"
      },
      "source": [
        "<a href=\"https://colab.research.google.com/github/GenaroHacker/actionable/blob/main/main.ipynb\" target=\"_parent\"><img src=\"https://colab.research.google.com/assets/colab-badge.svg\" alt=\"Open In Colab\"/></a>"
      ]
    },
    {
      "cell_type": "code",
      "execution_count": 1,
      "metadata": {
        "id": "9xyuiQ5G-8wi",
        "cellView": "form"
      },
      "outputs": [],
      "source": [
        "# @title Set Up\n",
        "%%capture\n",
        "!git clone https://github.com/GenaroHacker/dict_to_kivy_app.git\n",
        "from dict_to_kivy_app.modules.create_app import create_app\n"
      ]
    },
    {
      "cell_type": "code",
      "source": [
        "# @title Create App\n",
        "\n",
        "# Define app structure dictionary\n",
        "screens = {\n",
        "    'task_selector': {\n",
        "        'reachable_screens': ['task_selector', 'settings', 'subtask_sequence'],\n",
        "        'custom_functions': ['task_1', 'task_2', 'task_3', 'task_4', 'task_5', 'Start'],\n",
        "        'grid_columns': 1,\n",
        "        'color': (0, 0.9, 0.5),\n",
        "    },\n",
        "    'settings': {\n",
        "        'reachable_screens': ['task_selector', 'settings'],\n",
        "        'custom_functions': ['Submit', 'Download Database'],\n",
        "        'grid_columns': 1,\n",
        "        'color': (0, 0, 0),\n",
        "    },\n",
        "    'subtask_sequence': {\n",
        "        'reachable_screens': ['task_selector'],\n",
        "        'custom_functions': ['Pause', 'Cancel', 'Next Step'],\n",
        "        'grid_columns': 3,\n",
        "        'color': (1, 1, 1),\n",
        "    }\n",
        "}\n",
        "\n",
        "# Create and download app\n",
        "create_app(\n",
        "    screen_dict=screens,\n",
        "    folder_name=\"example_apps\",\n",
        "    app_name=\"SampleApp\",\n",
        "    title_height=100,\n",
        "    button_height=50,\n",
        "    navigation_columns=2,\n",
        "    transition='NoTransition',\n",
        "    compress_and_download=True\n",
        ")\n"
      ],
      "metadata": {
        "colab": {
          "base_uri": "https://localhost:8080/",
          "height": 35
        },
        "id": "dbFRX2X4_YLs",
        "outputId": "3bf45ffc-1ee0-4388-c7d4-f986b9fc127e",
        "cellView": "form"
      },
      "execution_count": 2,
      "outputs": [
        {
          "output_type": "display_data",
          "data": {
            "text/plain": [
              "<IPython.core.display.Javascript object>"
            ],
            "application/javascript": [
              "\n",
              "    async function download(id, filename, size) {\n",
              "      if (!google.colab.kernel.accessAllowed) {\n",
              "        return;\n",
              "      }\n",
              "      const div = document.createElement('div');\n",
              "      const label = document.createElement('label');\n",
              "      label.textContent = `Downloading \"${filename}\": `;\n",
              "      div.appendChild(label);\n",
              "      const progress = document.createElement('progress');\n",
              "      progress.max = size;\n",
              "      div.appendChild(progress);\n",
              "      document.body.appendChild(div);\n",
              "\n",
              "      const buffers = [];\n",
              "      let downloaded = 0;\n",
              "\n",
              "      const channel = await google.colab.kernel.comms.open(id);\n",
              "      // Send a message to notify the kernel that we're ready.\n",
              "      channel.send({})\n",
              "\n",
              "      for await (const message of channel.messages) {\n",
              "        // Send a message to notify the kernel that we're ready.\n",
              "        channel.send({})\n",
              "        if (message.buffers) {\n",
              "          for (const buffer of message.buffers) {\n",
              "            buffers.push(buffer);\n",
              "            downloaded += buffer.byteLength;\n",
              "            progress.value = downloaded;\n",
              "          }\n",
              "        }\n",
              "      }\n",
              "      const blob = new Blob(buffers, {type: 'application/binary'});\n",
              "      const a = document.createElement('a');\n",
              "      a.href = window.URL.createObjectURL(blob);\n",
              "      a.download = filename;\n",
              "      div.appendChild(a);\n",
              "      a.click();\n",
              "      div.remove();\n",
              "    }\n",
              "  "
            ]
          },
          "metadata": {}
        },
        {
          "output_type": "display_data",
          "data": {
            "text/plain": [
              "<IPython.core.display.Javascript object>"
            ],
            "application/javascript": [
              "download(\"download_682012c3-bf68-48f6-a9fd-fa26e7eacc39\", \"example_apps.zip\", 6842)"
            ]
          },
          "metadata": {}
        },
        {
          "output_type": "execute_result",
          "data": {
            "text/plain": [
              "'example_apps/SampleApp'"
            ],
            "application/vnd.google.colaboratory.intrinsic+json": {
              "type": "string"
            }
          },
          "metadata": {},
          "execution_count": 2
        }
      ]
    }
  ]
}
